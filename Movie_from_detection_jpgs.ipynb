{
 "cells": [
  {
   "cell_type": "markdown",
   "id": "weekly-frederick",
   "metadata": {},
   "source": [
    "#### Movie_from_detection_jpgs\n",
    "\n",
    "Use opencv to make a .avi from the detection .jpgs"
   ]
  },
  {
   "cell_type": "code",
   "execution_count": 10,
   "id": "336a005c",
   "metadata": {},
   "outputs": [],
   "source": [
    "# Need opencv from my CRSCV environment\n",
    "import cv2 \n",
    "import os\n",
    "import numpy as np\n",
    "\n",
    "image_folder = 'C:\\crs\\src\\CoastSat\\data\\CC1\\jpg_files\\detection'\n",
    "\n",
    "images = [img for img in os.listdir(image_folder) if img.endswith(\".jpg\")]\n",
    "frame = cv2.imread(os.path.join(image_folder, images[0]))\n",
    "height, width, layers = frame.shape\n",
    "  \n",
    "# choose codec according to format needed\n",
    "fourcc = cv2.VideoWriter_fourcc(*'mp4v') \n",
    "video = cv2.VideoWriter(video_name, fourcc, 1, (width, height))\n",
    "\n",
    "for image in images:\n",
    "    #print(os.path.join(image_folder, image))\n",
    "    video.write(cv2.imread(os.path.join(image_folder, image)))\n",
    "\n",
    "cv2.destroyAllWindows()\n",
    "video.release()"
   ]
  }
 ],
 "metadata": {
  "kernelspec": {
   "display_name": "Python 3",
   "language": "python",
   "name": "python3"
  },
  "language_info": {
   "codemirror_mode": {
    "name": "ipython",
    "version": 3
   },
   "file_extension": ".py",
   "mimetype": "text/x-python",
   "name": "python",
   "nbconvert_exporter": "python",
   "pygments_lexer": "ipython3",
   "version": "3.7.9"
  }
 },
 "nbformat": 4,
 "nbformat_minor": 5
}
