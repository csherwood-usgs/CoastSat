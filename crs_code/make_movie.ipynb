{
 "cells": [
  {
   "cell_type": "code",
   "execution_count": 1,
   "id": "1aa597cd",
   "metadata": {},
   "outputs": [],
   "source": [
    "import numpy as np\n",
    "import matplotlib.pyplot as plt\n",
    "import pandas as pd\n",
    "import glob, os\n",
    "import shutil"
   ]
  },
  {
   "cell_type": "code",
   "execution_count": 11,
   "id": "540b4413",
   "metadata": {},
   "outputs": [],
   "source": [
    "image_dir = 'D:/crs/src/CoastSat/data/HOM/jpg_files/preprocessed/'\n",
    "movie_dir = 'D:/crs/src/CoastSat/data/HOM/movies/'\n",
    "movie_name = 'HoM_S2.mp4'\n",
    "scratch_dir = 'F:/scratch/'\n",
    "\n",
    "if not os.path.exists(scratch_dir):\n",
    "    os.makedirs(scratch_dir)\n",
    "if not os.path.exists(movie_dir):\n",
    "    os.makedirs(movie_dir)"
   ]
  },
  {
   "cell_type": "code",
   "execution_count": 6,
   "id": "3e3dfcd3",
   "metadata": {},
   "outputs": [],
   "source": [
    "# Get a list of the files\n",
    "files = glob.glob(image_dir+'*.jpg')"
   ]
  },
  {
   "cell_type": "code",
   "execution_count": 10,
   "id": "4e0a59fb",
   "metadata": {},
   "outputs": [],
   "source": [
    "# Rename them with consequetive numbers and copy to scratch dir\n",
    "for n, src in enumerate(files):\n",
    "    dst = scratch_dir+'f{:04d}.jpg'.format(n)\n",
    "    shutil.copyfile(src, dst)"
   ]
  },
  {
   "cell_type": "code",
   "execution_count": 15,
   "id": "673850c7",
   "metadata": {},
   "outputs": [
    {
     "name": "stdout",
     "output_type": "stream",
     "text": [
      "ffmpeg -framerate 5 -i F:/scratch/f%04d.jpg -c:v libx264 -pix_fmt yuv420p -vf scale=-1:1024 D:/crs/src/CoastSat/data/HOM/movies/HoM_S2.mp4\n",
      "Success\n"
     ]
    }
   ],
   "source": [
    "ffmpeg_cmd = \"ffmpeg -framerate 5 -i {}f%04d.jpg -c:v libx264 -pix_fmt yuv420p -vf scale=-1:1024 {}{}\".format(scratch_dir, movie_dir, movie_name)\n",
    "print(ffmpeg_cmd)\n",
    "if os.system(ffmpeg_cmd) == 0:\n",
    "    print('Success')\n",
    "else:\n",
    "    print('Fail')"
   ]
  }
 ],
 "metadata": {
  "kernelspec": {
   "display_name": "Python 3 (ipykernel)",
   "language": "python",
   "name": "python3"
  },
  "language_info": {
   "codemirror_mode": {
    "name": "ipython",
    "version": 3
   },
   "file_extension": ".py",
   "mimetype": "text/x-python",
   "name": "python",
   "nbconvert_exporter": "python",
   "pygments_lexer": "ipython3",
   "version": "3.8.13"
  }
 },
 "nbformat": 4,
 "nbformat_minor": 5
}
